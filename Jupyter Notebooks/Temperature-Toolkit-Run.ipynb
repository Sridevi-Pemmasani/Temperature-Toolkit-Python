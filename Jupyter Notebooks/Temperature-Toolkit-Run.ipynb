{
 "cells": [
  {
   "cell_type": "code",
   "execution_count": null,
   "id": "2e3022e5-bb80-4441-b2c6-9c938a1ea953",
   "metadata": {},
   "outputs": [
    {
     "name": "stdout",
     "output_type": "stream",
     "text": [
      "\n",
      "*********************************************************************************************************\n",
      "Choose an operation:\n",
      "1. Create New Temperature Record\n",
      "2. View All Temperature Records\n",
      "3. Modify Existing Temperature Record\n",
      "4. Delete Existing Temperature Record\n",
      "5. Convert Temperatures of Selected Day\n",
      "6. Show Temeratures Summary - All Days\n",
      "7. Are Temperatures Above a Given Threshold - Selected Day?\n",
      "8. Average Temperature - All Days\n",
      "9. Show Hottest Day\n",
      "10. Show Extreme Days Recorded Temperature Above a Threshold\n",
      "11. Show Temperature Ranges - All Days\n",
      "12. Show Temperature Trend\n",
      "13. Detect Spike\n",
      "14. Exit\n"
     ]
    },
    {
     "name": "stdin",
     "output_type": "stream",
     "text": [
      "Enter your choice:  1\n"
     ]
    },
    {
     "name": "stdout",
     "output_type": "stream",
     "text": [
      "Record added successfully for the date:  2025-04-27\n",
      "\n",
      "*********************************************************************************************************\n",
      "Choose an operation:\n",
      "1. Create New Temperature Record\n",
      "2. View All Temperature Records\n",
      "3. Modify Existing Temperature Record\n",
      "4. Delete Existing Temperature Record\n",
      "5. Convert Temperatures of Selected Day\n",
      "6. Show Temeratures Summary - All Days\n",
      "7. Are Temperatures Above a Given Threshold - Selected Day?\n",
      "8. Average Temperature - All Days\n",
      "9. Show Hottest Day\n",
      "10. Show Extreme Days Recorded Temperature Above a Threshold\n",
      "11. Show Temperature Ranges - All Days\n",
      "12. Show Temperature Trend\n",
      "13. Detect Spike\n",
      "14. Exit\n"
     ]
    },
    {
     "name": "stdin",
     "output_type": "stream",
     "text": [
      "Enter your choice:  1\n"
     ]
    },
    {
     "name": "stdout",
     "output_type": "stream",
     "text": [
      "Record added successfully for the date:  2025-04-28\n",
      "\n",
      "*********************************************************************************************************\n",
      "Choose an operation:\n",
      "1. Create New Temperature Record\n",
      "2. View All Temperature Records\n",
      "3. Modify Existing Temperature Record\n",
      "4. Delete Existing Temperature Record\n",
      "5. Convert Temperatures of Selected Day\n",
      "6. Show Temeratures Summary - All Days\n",
      "7. Are Temperatures Above a Given Threshold - Selected Day?\n",
      "8. Average Temperature - All Days\n",
      "9. Show Hottest Day\n",
      "10. Show Extreme Days Recorded Temperature Above a Threshold\n",
      "11. Show Temperature Ranges - All Days\n",
      "12. Show Temperature Trend\n",
      "13. Detect Spike\n",
      "14. Exit\n"
     ]
    },
    {
     "name": "stdin",
     "output_type": "stream",
     "text": [
      "Enter your choice:  1\n"
     ]
    },
    {
     "name": "stdout",
     "output_type": "stream",
     "text": [
      "Record added successfully for the date:  2025-04-29\n",
      "\n",
      "*********************************************************************************************************\n",
      "Choose an operation:\n",
      "1. Create New Temperature Record\n",
      "2. View All Temperature Records\n",
      "3. Modify Existing Temperature Record\n",
      "4. Delete Existing Temperature Record\n",
      "5. Convert Temperatures of Selected Day\n",
      "6. Show Temeratures Summary - All Days\n",
      "7. Are Temperatures Above a Given Threshold - Selected Day?\n",
      "8. Average Temperature - All Days\n",
      "9. Show Hottest Day\n",
      "10. Show Extreme Days Recorded Temperature Above a Threshold\n",
      "11. Show Temperature Ranges - All Days\n",
      "12. Show Temperature Trend\n",
      "13. Detect Spike\n",
      "14. Exit\n"
     ]
    },
    {
     "name": "stdin",
     "output_type": "stream",
     "text": [
      "Enter your choice:  2\n"
     ]
    },
    {
     "name": "stdout",
     "output_type": "stream",
     "text": [
      "\n",
      "Available Records:\n",
      "0: Date = 2025-04-27, Readings = [14.2, 15.0, 13.8, 14.5, 15.1, 14.0], Scale = celsius\n",
      "1: Date = 2025-04-28, Readings = [17.1, 18.5, 16.4, 17.0, 18.0, 16.8], Scale = celsius\n",
      "2: Date = 2025-04-29, Readings = [11.0, 9.5, 12.2, 10.0, 11.3, 10.7], Scale = celsius\n",
      "\n",
      "*********************************************************************************************************\n",
      "Choose an operation:\n",
      "1. Create New Temperature Record\n",
      "2. View All Temperature Records\n",
      "3. Modify Existing Temperature Record\n",
      "4. Delete Existing Temperature Record\n",
      "5. Convert Temperatures of Selected Day\n",
      "6. Show Temeratures Summary - All Days\n",
      "7. Are Temperatures Above a Given Threshold - Selected Day?\n",
      "8. Average Temperature - All Days\n",
      "9. Show Hottest Day\n",
      "10. Show Extreme Days Recorded Temperature Above a Threshold\n",
      "11. Show Temperature Ranges - All Days\n",
      "12. Show Temperature Trend\n",
      "13. Detect Spike\n",
      "14. Exit\n"
     ]
    },
    {
     "name": "stdin",
     "output_type": "stream",
     "text": [
      "Enter your choice:  6\n"
     ]
    },
    {
     "name": "stdout",
     "output_type": "stream",
     "text": [
      "\n",
      "Temperature Record Summaries:\n",
      "Date: 2025-04-27, Scale: celsius, Min: 13.8, Max: 15.1, Avg: 14.43\n",
      "Date: 2025-04-28, Scale: celsius, Min: 16.4, Max: 18.5, Avg: 17.3\n",
      "Date: 2025-04-29, Scale: celsius, Min: 9.5, Max: 12.2, Avg: 10.78\n",
      "\n",
      "*********************************************************************************************************\n",
      "Choose an operation:\n",
      "1. Create New Temperature Record\n",
      "2. View All Temperature Records\n",
      "3. Modify Existing Temperature Record\n",
      "4. Delete Existing Temperature Record\n",
      "5. Convert Temperatures of Selected Day\n",
      "6. Show Temeratures Summary - All Days\n",
      "7. Are Temperatures Above a Given Threshold - Selected Day?\n",
      "8. Average Temperature - All Days\n",
      "9. Show Hottest Day\n",
      "10. Show Extreme Days Recorded Temperature Above a Threshold\n",
      "11. Show Temperature Ranges - All Days\n",
      "12. Show Temperature Trend\n",
      "13. Detect Spike\n",
      "14. Exit\n"
     ]
    },
    {
     "name": "stdin",
     "output_type": "stream",
     "text": [
      "Enter your choice:  8\n"
     ]
    },
    {
     "name": "stdout",
     "output_type": "stream",
     "text": [
      "\n",
      "Overall average temperature across all records: 14.17\n",
      "\n",
      "*********************************************************************************************************\n",
      "Choose an operation:\n",
      "1. Create New Temperature Record\n",
      "2. View All Temperature Records\n",
      "3. Modify Existing Temperature Record\n",
      "4. Delete Existing Temperature Record\n",
      "5. Convert Temperatures of Selected Day\n",
      "6. Show Temeratures Summary - All Days\n",
      "7. Are Temperatures Above a Given Threshold - Selected Day?\n",
      "8. Average Temperature - All Days\n",
      "9. Show Hottest Day\n",
      "10. Show Extreme Days Recorded Temperature Above a Threshold\n",
      "11. Show Temperature Ranges - All Days\n",
      "12. Show Temperature Trend\n",
      "13. Detect Spike\n",
      "14. Exit\n"
     ]
    },
    {
     "name": "stdin",
     "output_type": "stream",
     "text": [
      "Enter your choice:  5\n"
     ]
    },
    {
     "name": "stdout",
     "output_type": "stream",
     "text": [
      "\n",
      "Available Records:\n",
      "0: Date = 2025-04-27, Scale = celsius\n",
      "1: Date = 2025-04-28, Scale = celsius\n",
      "2: Date = 2025-04-29, Scale = celsius\n"
     ]
    },
    {
     "name": "stdin",
     "output_type": "stream",
     "text": [
      "Enter the index of the record:  0\n",
      "Enter the temperature scale (celsius/fahrenheit/kelvin):  fahrenheit\n"
     ]
    },
    {
     "name": "stdout",
     "output_type": "stream",
     "text": [
      "Record updated successfully to fahrenheit\n",
      "Updated Readings: [57.56, 59.0, 56.84, 58.1, 59.18, 57.2]\n",
      "\n",
      "*********************************************************************************************************\n",
      "Choose an operation:\n",
      "1. Create New Temperature Record\n",
      "2. View All Temperature Records\n",
      "3. Modify Existing Temperature Record\n",
      "4. Delete Existing Temperature Record\n",
      "5. Convert Temperatures of Selected Day\n",
      "6. Show Temeratures Summary - All Days\n",
      "7. Are Temperatures Above a Given Threshold - Selected Day?\n",
      "8. Average Temperature - All Days\n",
      "9. Show Hottest Day\n",
      "10. Show Extreme Days Recorded Temperature Above a Threshold\n",
      "11. Show Temperature Ranges - All Days\n",
      "12. Show Temperature Trend\n",
      "13. Detect Spike\n",
      "14. Exit\n"
     ]
    }
   ],
   "source": [
    "%run main.py"
   ]
  },
  {
   "cell_type": "code",
   "execution_count": null,
   "id": "b2b042e7-5f1e-49af-8e18-b5ab3d049fc2",
   "metadata": {},
   "outputs": [],
   "source": []
  }
 ],
 "metadata": {
  "kernelspec": {
   "display_name": "Python 3 (ipykernel)",
   "language": "python",
   "name": "python3"
  },
  "language_info": {
   "codemirror_mode": {
    "name": "ipython",
    "version": 3
   },
   "file_extension": ".py",
   "mimetype": "text/x-python",
   "name": "python",
   "nbconvert_exporter": "python",
   "pygments_lexer": "ipython3",
   "version": "3.12.3"
  }
 },
 "nbformat": 4,
 "nbformat_minor": 5
}
